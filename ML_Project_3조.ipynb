{
 "cells": [
  {
   "cell_type": "code",
   "execution_count": 30,
   "id": "5e1857ed",
   "metadata": {},
   "outputs": [],
   "source": [
    "%matplotlib inline\n",
    "import numpy as np\n",
    "import matplotlib.pyplot as plt\n",
    "import math\n",
    "from sklearn.preprocessing import StandardScaler\n",
    "from PIL import Image\n",
    "import matplotlib as mpl\n",
    "from PIL import ImageOps\n",
    "import matplotlib.patches as patches\n",
    "\n",
    "from sklearn.linear_model import LogisticRegression,LinearRegression, SGDClassifier\n",
    "from sklearn.ensemble import RandomForestClassifier, ExtraTreesClassifier, VotingClassifier\n",
    "from sklearn.neural_network import MLPClassifier\n",
    "from sklearn.metrics import accuracy_score\n",
    "from sklearn.model_selection import GridSearchCV\n",
    "import time"
   ]
  },
  {
   "cell_type": "markdown",
   "id": "6153be42",
   "metadata": {},
   "source": [
    "---\n",
    "#### Fetch Original MNIST Dataset"
   ]
  },
  {
   "cell_type": "code",
   "execution_count": 2,
   "id": "7233f591",
   "metadata": {},
   "outputs": [],
   "source": [
    "from sklearn.datasets import fetch_openml\n",
    "mnist = fetch_openml('mnist_784', parser='auto', version=1)\n",
    "X, y = mnist[\"data\"], mnist[\"target\"]\n",
    "X = np.array(X)"
   ]
  },
  {
   "cell_type": "code",
   "execution_count": 3,
   "id": "ccae1c89",
   "metadata": {},
   "outputs": [],
   "source": [
    "X_train, X_test, y_train, y_test = X[:60000], X[60000:], y[:60000], y[60000:]"
   ]
  },
  {
   "cell_type": "markdown",
   "id": "a740bc73",
   "metadata": {},
   "source": [
    "---\n",
    "#### Select Model Algorithm by using Orignal MNIST"
   ]
  },
  {
   "cell_type": "code",
   "execution_count": 4,
   "id": "1bd1e2b4",
   "metadata": {},
   "outputs": [
    {
     "name": "stdout",
     "output_type": "stream",
     "text": [
      "Logistic Regression Accuracy: 0.9255\n",
      "Logistic Regression Training Time: 44.5389838218689 seconds\n"
     ]
    },
    {
     "name": "stderr",
     "output_type": "stream",
     "text": [
      "/Users/kangsungwook/anaconda3/lib/python3.11/site-packages/sklearn/linear_model/_logistic.py:460: ConvergenceWarning: lbfgs failed to converge (status=1):\n",
      "STOP: TOTAL NO. of ITERATIONS REACHED LIMIT.\n",
      "\n",
      "Increase the number of iterations (max_iter) or scale the data as shown in:\n",
      "    https://scikit-learn.org/stable/modules/preprocessing.html\n",
      "Please also refer to the documentation for alternative solver options:\n",
      "    https://scikit-learn.org/stable/modules/linear_model.html#logistic-regression\n",
      "  n_iter_i = _check_optimize_result(\n"
     ]
    }
   ],
   "source": [
    "# Logistic Regression 모델 (100)\n",
    "start_time = time.time()\n",
    "log_reg = LogisticRegression(max_iter=100, random_state=42)\n",
    "log_reg.fit(X_train, y_train)\n",
    "y_pred = log_reg.predict(X_test)\n",
    "end_time = time.time()\n",
    "accuracy = accuracy_score(y_test, y_pred)\n",
    "print(f\"Logistic Regression Accuracy: {accuracy}\")\n",
    "print(f\"Logistic Regression Training Time: {end_time - start_time} seconds\")"
   ]
  },
  {
   "cell_type": "code",
   "execution_count": 5,
   "id": "ebb012fd",
   "metadata": {},
   "outputs": [
    {
     "name": "stdout",
     "output_type": "stream",
     "text": [
      "Logistic Regression Accuracy: 0.923\n",
      "Logistic Regression Training Time: 228.89224672317505 seconds\n"
     ]
    },
    {
     "name": "stderr",
     "output_type": "stream",
     "text": [
      "/Users/kangsungwook/anaconda3/lib/python3.11/site-packages/sklearn/linear_model/_logistic.py:460: ConvergenceWarning: lbfgs failed to converge (status=1):\n",
      "STOP: TOTAL NO. of ITERATIONS REACHED LIMIT.\n",
      "\n",
      "Increase the number of iterations (max_iter) or scale the data as shown in:\n",
      "    https://scikit-learn.org/stable/modules/preprocessing.html\n",
      "Please also refer to the documentation for alternative solver options:\n",
      "    https://scikit-learn.org/stable/modules/linear_model.html#logistic-regression\n",
      "  n_iter_i = _check_optimize_result(\n"
     ]
    }
   ],
   "source": [
    "# Logistic Regression 모델 (500)\n",
    "start_time = time.time()\n",
    "log_reg = LogisticRegression(max_iter=500, random_state=42)\n",
    "log_reg.fit(X_train, y_train)\n",
    "y_pred = log_reg.predict(X_test)\n",
    "end_time = time.time()\n",
    "accuracy = accuracy_score(y_test, y_pred)\n",
    "print(f\"Logistic Regression Accuracy: {accuracy}\")\n",
    "print(f\"Logistic Regression Training Time: {end_time - start_time} seconds\")"
   ]
  },
  {
   "cell_type": "code",
   "execution_count": 6,
   "id": "a3712dd1",
   "metadata": {},
   "outputs": [
    {
     "name": "stdout",
     "output_type": "stream",
     "text": [
      "Softmax Regression Accuracy: 0.9255\n",
      "Softmax Regression Training Time: 48.623701095581055 seconds\n"
     ]
    },
    {
     "name": "stderr",
     "output_type": "stream",
     "text": [
      "/Users/kangsungwook/anaconda3/lib/python3.11/site-packages/sklearn/linear_model/_logistic.py:460: ConvergenceWarning: lbfgs failed to converge (status=1):\n",
      "STOP: TOTAL NO. of ITERATIONS REACHED LIMIT.\n",
      "\n",
      "Increase the number of iterations (max_iter) or scale the data as shown in:\n",
      "    https://scikit-learn.org/stable/modules/preprocessing.html\n",
      "Please also refer to the documentation for alternative solver options:\n",
      "    https://scikit-learn.org/stable/modules/linear_model.html#logistic-regression\n",
      "  n_iter_i = _check_optimize_result(\n"
     ]
    }
   ],
   "source": [
    "# Softmax 모델 (100)\n",
    "start_time = time.time()\n",
    "softmax_reg = LogisticRegression(multi_class=\"multinomial\", solver=\"lbfgs\",\n",
    "                                 random_state=42, max_iter=100)\n",
    "softmax_reg.fit(X_train, y_train)\n",
    "y_pred = softmax_reg.predict(X_test)\n",
    "end_time = time.time()\n",
    "accuracy = accuracy_score(y_test, y_pred)\n",
    "print(f\"Softmax Regression Accuracy: {accuracy}\")\n",
    "print(f\"Softmax Regression Training Time: {end_time - start_time} seconds\")"
   ]
  },
  {
   "cell_type": "code",
   "execution_count": 7,
   "id": "087eac07",
   "metadata": {},
   "outputs": [
    {
     "name": "stdout",
     "output_type": "stream",
     "text": [
      "Softmax Regression Accuracy: 0.923\n",
      "Softmax Regression Training Time: 223.75720977783203 seconds\n"
     ]
    },
    {
     "name": "stderr",
     "output_type": "stream",
     "text": [
      "/Users/kangsungwook/anaconda3/lib/python3.11/site-packages/sklearn/linear_model/_logistic.py:460: ConvergenceWarning: lbfgs failed to converge (status=1):\n",
      "STOP: TOTAL NO. of ITERATIONS REACHED LIMIT.\n",
      "\n",
      "Increase the number of iterations (max_iter) or scale the data as shown in:\n",
      "    https://scikit-learn.org/stable/modules/preprocessing.html\n",
      "Please also refer to the documentation for alternative solver options:\n",
      "    https://scikit-learn.org/stable/modules/linear_model.html#logistic-regression\n",
      "  n_iter_i = _check_optimize_result(\n"
     ]
    }
   ],
   "source": [
    "# Softmax 모델 (500)\n",
    "start_time = time.time()\n",
    "softmax_reg = LogisticRegression(multi_class=\"multinomial\", solver=\"lbfgs\", max_iter=500,\n",
    "                                random_state=42)\n",
    "softmax_reg.fit(X_train, y_train)\n",
    "y_pred = softmax_reg.predict(X_test)\n",
    "end_time = time.time()\n",
    "accuracy = accuracy_score(y_test, y_pred)\n",
    "print(f\"Softmax Regression Accuracy: {accuracy}\")\n",
    "print(f\"Softmax Regression Training Time: {end_time - start_time} seconds\")"
   ]
  },
  {
   "cell_type": "code",
   "execution_count": 8,
   "id": "90c258c5",
   "metadata": {},
   "outputs": [
    {
     "name": "stdout",
     "output_type": "stream",
     "text": [
      "Random Forest Accuracy: 0.9691\n",
      "Random Forest Training Time: 38.490525007247925 seconds\n"
     ]
    }
   ],
   "source": [
    "# Random Forests 모델\n",
    "start_time = time.time()\n",
    "rf_clf = RandomForestClassifier(n_estimators=100, random_state=42)\n",
    "rf_clf.fit(X_train, y_train)\n",
    "y_pred = rf_clf.predict(X_test)\n",
    "end_time = time.time()\n",
    "accuracy = accuracy_score(y_test, y_pred)\n",
    "print(f\"Random Forest Accuracy: {accuracy}\")\n",
    "print(f\"Random Forest Training Time: {end_time - start_time} seconds\")"
   ]
  },
  {
   "cell_type": "code",
   "execution_count": 9,
   "id": "aa1389ff",
   "metadata": {},
   "outputs": [
    {
     "name": "stdout",
     "output_type": "stream",
     "text": [
      "Extra Trees Accuracy: 0.9723\n",
      "Extra Trees Training Time: 26.96840190887451 seconds\n"
     ]
    }
   ],
   "source": [
    "# Extra-tree 모델\n",
    "start_time = time.time()\n",
    "et_clf = ExtraTreesClassifier(n_estimators=100, random_state=42)\n",
    "et_clf.fit(X_train, y_train)\n",
    "y_pred = et_clf.predict(X_test)\n",
    "end_time = time.time()\n",
    "accuracy = accuracy_score(y_test, y_pred)\n",
    "print(f\"Extra Trees Accuracy: {accuracy}\")\n",
    "print(f\"Extra Trees Training Time: {end_time - start_time} seconds\")"
   ]
  },
  {
   "cell_type": "code",
   "execution_count": 10,
   "id": "34dd99da",
   "metadata": {
    "scrolled": true
   },
   "outputs": [
    {
     "name": "stdout",
     "output_type": "stream",
     "text": [
      "MLPClassifier Accuracy: 0.9609\n",
      "MLPClassifier Training Time: 295.94501972198486 seconds\n"
     ]
    }
   ],
   "source": [
    "# MLP Classifier 모델\n",
    "start_time = time.time()\n",
    "mlp_clf = MLPClassifier(random_state=42)\n",
    "mlp_clf.fit(X_train, y_train)\n",
    "y_pred = mlp_clf.predict(X_test)\n",
    "end_time = time.time()\n",
    "accuracy = accuracy_score(y_test, y_pred)\n",
    "print(f\"MLPClassifier Accuracy: {accuracy}\")\n",
    "print(f\"MLPClassifier Training Time: {end_time - start_time} seconds\")"
   ]
  },
  {
   "cell_type": "code",
   "execution_count": 35,
   "id": "beb962b3",
   "metadata": {},
   "outputs": [
    {
     "name": "stderr",
     "output_type": "stream",
     "text": [
      "/Users/kangsungwook/anaconda3/lib/python3.11/site-packages/sklearn/linear_model/_logistic.py:460: ConvergenceWarning: lbfgs failed to converge (status=1):\n",
      "STOP: TOTAL NO. of ITERATIONS REACHED LIMIT.\n",
      "\n",
      "Increase the number of iterations (max_iter) or scale the data as shown in:\n",
      "    https://scikit-learn.org/stable/modules/preprocessing.html\n",
      "Please also refer to the documentation for alternative solver options:\n",
      "    https://scikit-learn.org/stable/modules/linear_model.html#logistic-regression\n",
      "  n_iter_i = _check_optimize_result(\n",
      "/Users/kangsungwook/anaconda3/lib/python3.11/site-packages/sklearn/linear_model/_logistic.py:460: ConvergenceWarning: lbfgs failed to converge (status=1):\n",
      "STOP: TOTAL NO. of ITERATIONS REACHED LIMIT.\n",
      "\n",
      "Increase the number of iterations (max_iter) or scale the data as shown in:\n",
      "    https://scikit-learn.org/stable/modules/preprocessing.html\n",
      "Please also refer to the documentation for alternative solver options:\n",
      "    https://scikit-learn.org/stable/modules/linear_model.html#logistic-regression\n",
      "  n_iter_i = _check_optimize_result(\n"
     ]
    },
    {
     "name": "stdout",
     "output_type": "stream",
     "text": [
      "MLPClassifier Accuracy: 0.9444\n",
      "MLPClassifier Training Time: 652.2614567279816 seconds\n"
     ]
    }
   ],
   "source": [
    "# Voting Classifier 모델\n",
    "start_time = time.time()\n",
    "vot_clf = VotingClassifier([('log_reg', LogisticRegression(max_iter=500, random_state=42)), ('softmax_reg', LogisticRegression(multi_class=\"multinomial\", solver=\"lbfgs\",random_state=42, max_iter=100)), ('rf_clf', RandomForestClassifier(n_estimators=100, random_state=42)), ('mlp_clf', MLPClassifier(random_state=42)), ('sgd_reg', SGDClassifier(random_state=42))], voting='hard')\n",
    "vot_clf.fit(X_train, y_train)\n",
    "y_pred = vot_clf.predict(X_test)\n",
    "end_time = time.time()\n",
    "accuracy = accuracy_score(y_test, y_pred)\n",
    "print(f\"MLPClassifier Accuracy: {accuracy}\")\n",
    "print(f\"MLPClassifier Training Time: {end_time - start_time} seconds\")"
   ]
  },
  {
   "cell_type": "markdown",
   "id": "dba504c2",
   "metadata": {},
   "source": [
    "---\n",
    "#### Fetch Handmade Test Dataset (100개)"
   ]
  },
  {
   "cell_type": "code",
   "execution_count": 57,
   "id": "ec226245",
   "metadata": {},
   "outputs": [
    {
     "name": "stdout",
     "output_type": "stream",
     "text": [
      "shape : (100, 28, 28)\n"
     ]
    }
   ],
   "source": [
    "IMAGE_TEST = \"./mnist_data_new.npz\"\n",
    "h_test = np.load(IMAGE_TEST)\n",
    "h_t_digit = h_test['img']\n",
    "h_t_label = h_test['label']\n",
    "h_t_label = h_t_label.astype(str)\n",
    "print(f'shape : {h_t_digit.shape}')"
   ]
  },
  {
   "cell_type": "markdown",
   "id": "7cc1fca6",
   "metadata": {},
   "source": [
    "---\n",
    "#### Compare test accuray (Original test data vs Handmade test data)\n",
    "model -> Extra trees"
   ]
  },
  {
   "cell_type": "code",
   "execution_count": 59,
   "id": "d2d77045",
   "metadata": {},
   "outputs": [
    {
     "name": "stdout",
     "output_type": "stream",
     "text": [
      "Extra Trees Accuracy: 0.1\n",
      "Extra Trees Training Time: 27.32103180885315 seconds\n"
     ]
    }
   ],
   "source": [
    "# original 학습 , handmade test\n",
    "start_time = time.time()\n",
    "et_clf = ExtraTreesClassifier(n_estimators=100, random_state=42)\n",
    "et_clf.fit(X_train, y_train)\n",
    "y_pred = et_clf.predict(h_t_digit.reshape(-1, 784))\n",
    "end_time = time.time()\n",
    "accuracy = accuracy_score(h_t_label, y_pred)\n",
    "print(f\"Extra Trees Accuracy: {accuracy}\")\n",
    "print(f\"Extra Trees Training Time: {end_time - start_time} seconds\")"
   ]
  },
  {
   "cell_type": "code",
   "execution_count": 39,
   "id": "e59c92c6",
   "metadata": {},
   "outputs": [
    {
     "name": "stdout",
     "output_type": "stream",
     "text": [
      "Extra Trees Accuracy: 0.9723\n",
      "Extra Trees Training Time: 27.144407033920288 seconds\n"
     ]
    }
   ],
   "source": [
    "# original 학습 , original test\n",
    "start_time = time.time()\n",
    "et_clf = ExtraTreesClassifier(n_estimators=100, random_state=42)\n",
    "et_clf.fit(X_train, y_train)\n",
    "y_pred = et_clf.predict(X_test)\n",
    "end_time = time.time()\n",
    "accuracy = accuracy_score(y_test, y_pred)\n",
    "print(f\"Extra Trees Accuracy: {accuracy}\")\n",
    "print(f\"Extra Trees Training Time: {end_time - start_time} seconds\")\n"
   ]
  },
  {
   "cell_type": "markdown",
   "id": "7f527e53",
   "metadata": {},
   "source": [
    "---\n",
    "#### Compare HM data vs MNIST data"
   ]
  },
  {
   "cell_type": "code",
   "execution_count": 40,
   "id": "69db1915",
   "metadata": {},
   "outputs": [
    {
     "data": {
      "image/png": "[encoded data removed]",
      "text/plain": [
       "<Figure size 640x480 with 2 Axes>"
      ]
     },
     "metadata": {},
     "output_type": "display_data"
    }
   ],
   "source": [
    "# MNIST data와 hand made data를 이미지를 plot해서 확인하고 pixel 값을 출력해서 어떤 차이가 있는 지 비교한다. \n",
    "X_show = X_train[0].reshape(28, 28)\n",
    "plt.subplot(1,2,1)\n",
    "plt.imshow(X_show, cmap='gray')\n",
    "plt.title('MNIST data')\n",
    "\n",
    "plt.subplot(1,2,2)\n",
    "plt.imshow(h_t_digit[11], cmap='gray')\n",
    "plt.title('Handmade data')\n",
    "\n",
    "plt.show()"
   ]
  },
  {
   "cell_type": "code",
   "execution_count": 41,
   "id": "8a707602",
   "metadata": {},
   "outputs": [
    {
     "name": "stdout",
     "output_type": "stream",
     "text": [
      "MNIST : [  0   0   0   0   0   0   0   0   0  14   1 154 253  90   0   0   0   0\n",
      "   0   0   0   0   0   0   0   0   0   0]\n",
      "HM : [0. 0. 0. 0. 0. 1. 1. 1. 1. 1. 1. 1. 1. 1. 1. 1. 1. 1. 1. 0. 0. 0. 0. 0.\n",
      " 0. 0. 0. 0.]\n"
     ]
    }
   ],
   "source": [
    "# pixel data를 일부 출력해서 확인한다.\n",
    "print(f'MNIST : {X_show[10]}')\n",
    "print(f'HM : {h_t_digit[0][10]}')"
   ]
  },
  {
   "cell_type": "markdown",
   "id": "1a57d649",
   "metadata": {},
   "source": [
    "---\n",
    "#### Data processing\n",
    "All data must be centered\n",
    "HM -> center processing\n",
    "1. HM data -> add noise\n",
    "2. MNIST data -> binarize\n",
    "3. Compare test accuracy above 2 case"
   ]
  },
  {
   "cell_type": "markdown",
   "id": "b1539ab9",
   "metadata": {},
   "source": [
    "Centering HM data"
   ]
  },
  {
   "cell_type": "code",
   "execution_count": 42,
   "id": "2cfd1dd4",
   "metadata": {},
   "outputs": [],
   "source": [
    "# center image function\n",
    "def center_image(selected_image):\n",
    "    # 이미지의 높이, 너비 계산\n",
    "    height, width = selected_image.shape\n",
    "    \n",
    "    nonzero_indices = np.argwhere(selected_image > 0)  # 흰색(숫자) 부분의 인덱스 찾기\n",
    "    if not nonzero_indices.shape[0]:\n",
    "        return selected_image\n",
    "            \n",
    "    top_row, left_col = nonzero_indices.min(axis=0)\n",
    "    bottom_row, right_col = nonzero_indices.max(axis=0)\n",
    "    \n",
    "    selected_image[top_row:bottom_row + 1, left_col] = 0  # 왼쪽 세로 테두리\n",
    "    selected_image[top_row:bottom_row + 1, right_col] = 0  # 오른쪽 세로 테두리\n",
    "    selected_image[top_row, left_col:right_col + 1] = 0  # 위쪽 가로 테두리\n",
    "    selected_image[bottom_row, left_col:right_col + 1] = 0  # 아래쪽 가로 테두리\n",
    "\n",
    "    \n",
    "    # 흰색(숫자) 부분을 따내기 위해 흰색인 부분의 인덱스 찾기\n",
    "    nonzero_indices = np.argwhere(selected_image > 0)  # 흰색(숫자) 부분의 인덱스 찾기\n",
    "    if not nonzero_indices.shape[0]:\n",
    "        return selected_image\n",
    "    top_row, left_col = nonzero_indices.min(axis=0)\n",
    "    bottom_row, right_col = nonzero_indices.max(axis=0)\n",
    "    \n",
    "\n",
    "    # 흰색(숫자) 영역의 높이, 너비 계산\n",
    "    white_height = bottom_row - top_row + 1\n",
    "    white_width = right_col - left_col + 1\n",
    "\n",
    "    # 중앙에 위치시키기 위한 offset 계산\n",
    "    offset_h = (height - white_height) // 2\n",
    "    offset_w = (width - white_width) // 2\n",
    "\n",
    "    # 새로운 이미지 생성하고 이미지를 중앙에 위치시키기\n",
    "    new_image = np.zeros((height, width))\n",
    "    new_image[offset_h:offset_h + white_height, offset_w:offset_w + white_width] = \\\n",
    "        selected_image[top_row:bottom_row + 1, left_col:right_col + 1]\n",
    "\n",
    "    return new_image\n"
   ]
  },
  {
   "cell_type": "code",
   "execution_count": 43,
   "id": "6996e292",
   "metadata": {},
   "outputs": [
    {
     "data": {
      "text/plain": [
       "<matplotlib.image.AxesImage at 0x1556b6c50>"
      ]
     },
     "execution_count": 43,
     "metadata": {},
     "output_type": "execute_result"
    },
    {
     "data": {
      "image/png": "[encoded data removed]",
      "text/plain": [
       "<Figure size 640x480 with 1 Axes>"
      ]
     },
     "metadata": {},
     "output_type": "display_data"
    }
   ],
   "source": [
    "h_t_center = []\n",
    "for image in h_t_digit:\n",
    "    h_t_center.append(center_image(image))\n",
    "    \n",
    "h_t_center = np.array(h_t_center)\n",
    "plt.imshow(h_t_center[8], cmap='gray')"
   ]
  },
  {
   "cell_type": "markdown",
   "id": "66c4078f",
   "metadata": {},
   "source": [
    "1. HM data -> add noise"
   ]
  },
  {
   "cell_type": "code",
   "execution_count": 44,
   "id": "9cb0825b",
   "metadata": {},
   "outputs": [],
   "source": [
    "# handmade dataset에 gaussian blur를 추가할 함수들\n",
    "def gauss1d(sigma):\n",
    "    length = math.ceil(sigma * 6)\n",
    "    if length % 2 == 0: length += 1\n",
    "    kernel = np.arange(-(length // 2), (length // 2) + 1, dtype=np.float32)\n",
    "    kernel = np.vectorize(lambda x: np.exp(-(x ** 2) / (2 * sigma ** 2)))(kernel)\n",
    "    kernel = kernel / np.sum(kernel)\n",
    "    return kernel\n",
    "\n",
    "def gauss2d(sigma):\n",
    "    kernel1d = gauss1d(sigma)\n",
    "    kernel2d = np.outer(kernel1d, kernel1d.T)\n",
    "    kernel2d = kernel2d / np.sum(kernel2d)\n",
    "    return kernel2d\n",
    "\n",
    "def convolved2d(array, filter):\n",
    "  a = int((len(filter)-1)/2)\n",
    "  img_pad = np.pad(array,((a,a),(a,a)), 'constant')\n",
    "\n",
    "  rotate_gauss = np.rot90(filter)\n",
    "  ratate_gauss = np.rot90(rotate_gauss)\n",
    "\n",
    "  result_img = np.ones((len(array), len(array[0])))\n",
    "  result_img = result_img.astype('float32')\n",
    "\n",
    "  for i in range(len(result_img)):\n",
    "    for j in range(len(result_img[0])):\n",
    "      result_img[i][j] = np.sum(img_pad[i:i+len(filter), j:j+len(filter)]*rotate_gauss)\n",
    "\n",
    "  return result_img"
   ]
  },
  {
   "cell_type": "code",
   "execution_count": 45,
   "id": "6dcff4b6",
   "metadata": {
    "scrolled": true
   },
   "outputs": [
    {
     "name": "stdout",
     "output_type": "stream",
     "text": [
      "(100, 28, 28)\n"
     ]
    },
    {
     "data": {
      "text/plain": [
       "Text(0.5, 1.0, 'Handmade data')"
      ]
     },
     "execution_count": 45,
     "metadata": {},
     "output_type": "execute_result"
    },
    {
     "data": {
      "image/png": "[encoded data removed]",
      "text/plain": [
       "<Figure size 640x480 with 2 Axes>"
      ]
     },
     "metadata": {},
     "output_type": "display_data"
    }
   ],
   "source": [
    "# Add gaussian noise\n",
    "blur_img = []\n",
    "gaussian_fil = gauss2d(0.6)\n",
    "for sample in (h_t_center*255):\n",
    "    blur_img.append(convolved2d(sample, gaussian_fil))\n",
    "blur_img = np.array(blur_img)\n",
    "blur_img = blur_img.astype(np.int64)\n",
    "print(blur_img.shape)\n",
    "plt.subplot(1,2,1)\n",
    "plt.imshow(X_show, cmap='gray')\n",
    "plt.title('MNIST data')\n",
    "\n",
    "plt.subplot(1,2,2)\n",
    "plt.imshow(blur_img[5], cmap='gray')\n",
    "plt.title('Handmade data')"
   ]
  },
  {
   "cell_type": "markdown",
   "id": "d68c0f11",
   "metadata": {},
   "source": [
    "2. MNIST data -> binarize"
   ]
  },
  {
   "cell_type": "code",
   "execution_count": 46,
   "id": "27023829",
   "metadata": {},
   "outputs": [
    {
     "data": {
      "text/plain": [
       "(-0.5, 27.5, 27.5, -0.5)"
      ]
     },
     "execution_count": 46,
     "metadata": {},
     "output_type": "execute_result"
    },
    {
     "data": {
      "image/png": "[encoded data removed]",
      "text/plain": [
       "<Figure size 640x480 with 4 Axes>"
      ]
     },
     "metadata": {},
     "output_type": "display_data"
    }
   ],
   "source": [
    "# 이진화 처리\n",
    "threshold = 1\n",
    "X_binary_1 = (X > threshold).astype(int)\n",
    "\n",
    "A = X[0].reshape((28,28))\n",
    "B = X_binary_1[0].reshape((28,28))\n",
    "\n",
    "threshold = 128\n",
    "X_binary_128 = (X > threshold).astype(int)\n",
    "C = X_binary_128[0].reshape((28,28))\n",
    "\n",
    "X_binary_64 = (X > 64).astype(int)\n",
    "D = X_binary_64[0].reshape((28,28))\n",
    "\n",
    "# Treshold 값을 달리했을 때 이미지 이진화 결과의 변화를 나타냄\n",
    "plt.subplot(2,2,1)\n",
    "plt.imshow(A, cmap='gray')\n",
    "plt.title(\"original\")\n",
    "plt.axis('off')\n",
    "plt.subplot(2,2,2)\n",
    "plt.imshow(B, cmap='gray')\n",
    "plt.title(\"threshold:1\")\n",
    "plt.axis('off')\n",
    "plt.subplot(2,2,3)\n",
    "plt.imshow(C, cmap='gray')\n",
    "plt.title(\"threshold:128\")\n",
    "plt.axis('off')\n",
    "plt.subplot(2,2,4)\n",
    "plt.imshow(D, cmap='gray')\n",
    "plt.title(\"threshold:64\")\n",
    "plt.axis('off')"
   ]
  },
  {
   "cell_type": "markdown",
   "id": "97f0f642",
   "metadata": {},
   "source": [
    "3. Compare test accuracy above 2 case </br>\n",
    "model -> Extra tree"
   ]
  },
  {
   "cell_type": "code",
   "execution_count": 64,
   "id": "12a61045",
   "metadata": {},
   "outputs": [
    {
     "name": "stdout",
     "output_type": "stream",
     "text": [
      "Extra Trees Accuracy: 0.46\n",
      "Extra Trees Training Time: 27.006116151809692 seconds\n"
     ]
    }
   ],
   "source": [
    "# add noise to hand made test data\n",
    "start_time = time.time()\n",
    "et_clf = ExtraTreesClassifier(n_estimators=100, random_state=42)\n",
    "et_clf.fit(X_train, y_train)\n",
    "y_pred = et_clf.predict(blur_img.reshape(-1,784))\n",
    "end_time = time.time()\n",
    "accuracy = accuracy_score(h_t_label, y_pred)\n",
    "print(f\"Extra Trees Accuracy: {accuracy}\")\n",
    "print(f\"Extra Trees Training Time: {end_time - start_time} seconds\")"
   ]
  },
  {
   "cell_type": "code",
   "execution_count": 65,
   "id": "da41735b",
   "metadata": {},
   "outputs": [
    {
     "name": "stdout",
     "output_type": "stream",
     "text": [
      "Extra Trees Accuracy: 0.56\n",
      "Extra Trees Training Time: 25.01542019844055 seconds\n"
     ]
    }
   ],
   "source": [
    "# MNIST binarize\n",
    "X_binary_train = X_binary_64[:60000]\n",
    "\n",
    "start_time = time.time()\n",
    "et_clf = ExtraTreesClassifier(n_estimators=100, random_state=42)\n",
    "et_clf.fit(X_binary_train, y_train)\n",
    "y_pred = et_clf.predict((h_t_center).reshape(-1, 784))\n",
    "end_time = time.time()\n",
    "accuracy = accuracy_score(h_t_label, y_pred)\n",
    "print(f\"Extra Trees Accuracy: {accuracy}\")\n",
    "print(f\"Extra Trees Training Time: {end_time - start_time} seconds\")\n"
   ]
  },
  {
   "cell_type": "markdown",
   "id": "c5bfc79b",
   "metadata": {},
   "source": [
    "MNST를 Binarize했을 때 성능이 더 좋다."
   ]
  },
  {
   "cell_type": "markdown",
   "id": "5edc7e6a",
   "metadata": {},
   "source": [
    "---\n",
    "#### Fetch Handmade Dataset"
   ]
  },
  {
   "cell_type": "code",
   "execution_count": 49,
   "id": "397c21fd",
   "metadata": {},
   "outputs": [],
   "source": [
    "# dataset 불러오기\n",
    "# 경로는 필요에 맞게 변경 필요\n",
    "IMAGE_PATH_DIGIT_TRAIN = \"./handmade_data/digit_data_TrVal-1.npz\"\n",
    "IMAGE_PATH_DIGIT_TEST = \"./handmade_data/digit_data_10_Test_1.npz\"\n",
    "IMAGE_PATH_OP_TRAIN = \"./handmade_data/op_data_TrVal-1.npz\"\n",
    "IMAGE_PATH_OP_TEST = \"./handmade_data/op_data_10_Test_1.npz\"\n",
    "\n",
    "hm_digit_train = np.load(IMAGE_PATH_DIGIT_TRAIN)\n",
    "hm_digit_test = np.load(IMAGE_PATH_DIGIT_TEST)\n",
    "hm_op_train = np.load(IMAGE_PATH_OP_TRAIN)\n",
    "hm_op_test = np.load(IMAGE_PATH_OP_TEST)\n",
    "\n",
    "# 숫자 data img, label 분리 ==> train data\n",
    "hm_digit_train_data = hm_digit_train['img']\n",
    "hm_digit_train_label = hm_digit_train['label']\n",
    "\n",
    "# 숫자 data img, label 분리 ==> test data\n",
    "hm_digit_test_data = hm_digit_test['img']\n",
    "hm_digit_test_label = hm_digit_test['label']\n",
    "\n",
    "# 기호 data img, label 분리 ==> train data\n",
    "hm_op_train_data = hm_op_train['img']\n",
    "hm_op_train_label = hm_op_train['label']\n",
    "\n",
    "# 기호 data img, label 분리 ==> test data\n",
    "hm_op_test_data = hm_op_test['img']\n",
    "hm_op_test_label = hm_op_test['label']"
   ]
  },
  {
   "cell_type": "code",
   "execution_count": 50,
   "id": "091fafd4",
   "metadata": {
    "scrolled": true
   },
   "outputs": [
    {
     "name": "stdout",
     "output_type": "stream",
     "text": [
      "digit train : (15119, 28, 28)\n",
      "digit test : (2160, 28, 28)\n",
      "op train : (15329, 28, 28)\n",
      "op test : (2190, 28, 28)\n"
     ]
    }
   ],
   "source": [
    "# 받아온 데이터의 형태 출력\n",
    "print(f'digit train : {hm_digit_train_data.shape}')\n",
    "print(f'digit test : {hm_digit_test_data.shape}')\n",
    "print(f'op train : {hm_op_train_data.shape}')\n",
    "print(f'op test : {hm_op_test_data.shape}')"
   ]
  },
  {
   "cell_type": "markdown",
   "id": "ae1d71d8",
   "metadata": {},
   "source": [
    "---\n",
    "#### Data Cleaning\n",
    "1. Change wrong label & delete messy data\n",
    "2. Create CenterScaler class : Centering image\n",
    "3. Create PixelScaler class : Binarize original MNIST</br>\n",
    "    3-1. Verification of scaler pipeline\n",
    "4. Verification of data cleaning"
   ]
  },
  {
   "cell_type": "markdown",
   "id": "3ad263aa",
   "metadata": {},
   "source": [
    "1. Change wrong label & delete messy data"
   ]
  },
  {
   "cell_type": "code",
   "execution_count": null,
   "id": "c432c011",
   "metadata": {},
   "outputs": [],
   "source": [
    "# digit data wrong label"
   ]
  },
  {
   "cell_type": "code",
   "execution_count": null,
   "id": "adaa7c6c",
   "metadata": {},
   "outputs": [],
   "source": [
    "# op data wrong label"
   ]
  },
  {
   "cell_type": "code",
   "execution_count": null,
   "id": "0137a64f",
   "metadata": {},
   "outputs": [],
   "source": [
    "# messy data label"
   ]
  },
  {
   "cell_type": "code",
   "execution_count": null,
   "id": "7f7ae1f8",
   "metadata": {},
   "outputs": [],
   "source": []
  },
  {
   "cell_type": "markdown",
   "id": "42fcc409",
   "metadata": {},
   "source": [
    "2. Create CenterScaler class : Centering image"
   ]
  },
  {
   "cell_type": "code",
   "execution_count": 61,
   "id": "6d26d2ad",
   "metadata": {},
   "outputs": [],
   "source": [
    "# Center image Estimator for pipelining\n",
    "from sklearn.pipeline import Pipeline\n",
    "from sklearn.base import BaseEstimator, TransformerMixin\n",
    "class CenterScaler(BaseEstimator, TransformerMixin): #28x28의 input 필요.\n",
    "    def __init__(self):\n",
    "        self.TransformedImage = None\n",
    "        return None\n",
    "        \n",
    "    def fit(self, X, y=None):\n",
    "        \n",
    "        \n",
    "        return self\n",
    "    \n",
    "    def transform(self, X, y=None):\n",
    "        if X.ndim == 2:\n",
    "            X = X.reshape(-1, 28, 28)\n",
    "\n",
    "        CenteredImage = []\n",
    "        for image in X:\n",
    "            if image.max() > 1:\n",
    "                CenteredImage.append(image)\n",
    "            else:\n",
    "                CenteredImage.append(self.center_image(image))\n",
    "        return np.array(CenteredImage).reshape(-1, 784)\n",
    "        \n",
    "    def center_image(self, selected_image, y=None):\n",
    "        # 이미지의 높이, 너비 계산\n",
    "        height, width = selected_image.shape\n",
    "        \n",
    "        nonzero_indices = np.argwhere(selected_image > 0)  # 흰색(숫자) 부분의 인덱스 찾기\n",
    "        if not nonzero_indices.shape[0]:\n",
    "            return selected_image\n",
    "\n",
    "        top_row, left_col = nonzero_indices.min(axis=0)\n",
    "        bottom_row, right_col = nonzero_indices.max(axis=0)\n",
    "\n",
    "        \n",
    "        selected_image[top_row:bottom_row + 1, left_col] = 0  # 왼쪽 세로 테두리\n",
    "        selected_image[top_row:bottom_row + 1, right_col] = 0  # 오른쪽 세로 테두리\n",
    "        selected_image[top_row, left_col:right_col + 1] = 0  # 위쪽 가로 테두리\n",
    "        selected_image[bottom_row, left_col:right_col + 1] = 0  # 아래쪽 가로 테두리\n",
    "        \n",
    "\n",
    "        # 흰색(숫자) 부분을 따내기 위해 흰색인 부분의 인덱스 찾기\n",
    "        nonzero_indices = np.argwhere(selected_image > 0)  # 흰색(숫자) 부분의 인덱스 찾기\n",
    "        if not nonzero_indices.shape[0]:\n",
    "            return selected_image\n",
    "        top_row, left_col = nonzero_indices.min(axis=0)\n",
    "        bottom_row, right_col = nonzero_indices.max(axis=0)\n",
    "\n",
    "\n",
    "        # 흰색(숫자) 영역의 높이, 너비 계산\n",
    "        white_height = bottom_row - top_row + 1\n",
    "        white_width = right_col - left_col + 1\n",
    "\n",
    "        # 중앙에 위치시키기 위한 offset 계산\n",
    "        offset_h = (height - white_height) // 2\n",
    "        offset_w = (width - white_width) // 2\n",
    "\n",
    "        # 새로운 이미지 생성하고 이미지를 중앙에 위치시키기\n",
    "        new_image = np.zeros((height, width))\n",
    "        new_image[offset_h:offset_h + white_height, offset_w:offset_w + white_width] = \\\n",
    "            selected_image[top_row:bottom_row + 1, left_col:right_col + 1]\n",
    "\n",
    "        return new_image"
   ]
  },
  {
   "cell_type": "markdown",
   "id": "35301d1e",
   "metadata": {},
   "source": [
    "3. Create PixelScaler class : Binarize Original MNIST"
   ]
  },
  {
   "cell_type": "code",
   "execution_count": 62,
   "id": "781ec90f",
   "metadata": {},
   "outputs": [],
   "source": [
    "# PixelScaler Estimator for Pipelining\n",
    "class PixelScaler(BaseEstimator,TransformerMixin): \n",
    "    def __init__(self):\n",
    "        self.img = None\n",
    "         \n",
    "    def fit(self, X, y=None):\n",
    "        \n",
    "        return self\n",
    "    \n",
    "    def transform(self,X,y=None):\n",
    "        if X.ndim == 3:\n",
    "            X = X.reshape(-1, 784)\n",
    "        PixelImage = []\n",
    "        for image in X:\n",
    "            if image.max() > 1:\n",
    "                PixelImage.append((image>64).astype(int))\n",
    "            else:\n",
    "                PixelImage.append(image.astype(int))\n",
    "            \n",
    "        return np.array(PixelImage)"
   ]
  },
  {
   "cell_type": "markdown",
   "id": "895dd6cd",
   "metadata": {},
   "source": [
    "3-1. Verification of scaler pipeline </br>\n",
    "    -> train with original MNIST, test with HM test(no preprocessing)"
   ]
  },
  {
   "cell_type": "code",
   "execution_count": 63,
   "id": "66c4d7de",
   "metadata": {},
   "outputs": [
    {
     "name": "stdout",
     "output_type": "stream",
     "text": [
      "Extra Trees Accuracy: 0.56\n",
      "Extra Trees Training Time: 21.731069803237915 seconds\n"
     ]
    }
   ],
   "source": [
    "start_time = time.time()\n",
    "verif_model = Pipeline([('cnt_scr', CenterScaler()), ('pix_scr', PixelScaler()), \n",
    "                   ('ex_clf', ExtraTreesClassifier(n_estimators=100, random_state=42))])\n",
    "verif_model.fit(X_train, y_train)\n",
    "y_pred = verif_model.predict(h_t_digit)\n",
    "end_time = time.time()\n",
    "accuracy = accuracy_score(h_t_label, y_pred)\n",
    "print(f\"Extra Trees Accuracy: {accuracy}\")\n",
    "print(f\"Extra Trees Training Time: {end_time - start_time} seconds\")"
   ]
  },
  {
   "cell_type": "markdown",
   "id": "87022024",
   "metadata": {},
   "source": [
    "4. Verification of data cleaning</br>\n",
    "    Case.1 Training with MNIST, Test with cleaning data / non cleaning data</br>"
   ]
  },
  {
   "cell_type": "markdown",
   "id": "bb1513bf",
   "metadata": {},
   "source": [
    "여긴 어떻게 하지....?"
   ]
  },
  {
   "cell_type": "code",
   "execution_count": null,
   "id": "bbc680e5",
   "metadata": {},
   "outputs": [],
   "source": [
    "X_train_non, X_val_non = hm_digit_train_data[:11000], hm_digit_train_data[11000:], \n",
    "y_train_non, y_val_non = hm_digit_train_label[:11000], hm_digit_train_label[11000:]"
   ]
  },
  {
   "cell_type": "code",
   "execution_count": null,
   "id": "e1dd5c57",
   "metadata": {},
   "outputs": [],
   "source": [
    "data_c = np.load('cleaning_data.npz')\n",
    "img_c = data_c['img']\n",
    "label_c = data_c['label']\n",
    "X_c, y_c = data_c[\"img\"], data_c[\"label\"]\n",
    "X_train_c, X_test_c = X_c[:11000], X_c[11000:]\n",
    "y_train_c, y_test_c =  y_c[:11000], y_c[11000:]"
   ]
  },
  {
   "cell_type": "markdown",
   "id": "15fb28a8",
   "metadata": {},
   "source": []
  }
 ],
 "metadata": {
  "kernelspec": {
   "display_name": "Python 3 (ipykernel)",
   "language": "python",
   "name": "python3"
  },
  "language_info": {
   "codemirror_mode": {
    "name": "ipython",
    "version": 3
   },
   "file_extension": ".py",
   "mimetype": "text/x-python",
   "name": "python",
   "nbconvert_exporter": "python",
   "pygments_lexer": "ipython3",
   "version": "3.11.4"
  }
 },
 "nbformat": 4,
 "nbformat_minor": 5
}
